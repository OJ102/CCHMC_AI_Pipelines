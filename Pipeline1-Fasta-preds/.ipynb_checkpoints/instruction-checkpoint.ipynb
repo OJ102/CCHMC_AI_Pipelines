{
 "cells": [
  {
   "cell_type": "markdown",
   "id": "2db906ae",
   "metadata": {},
   "source": [
    "# Instruction for Prott5 embedding"
   ]
  },
  {
   "cell_type": "code",
   "execution_count": null,
   "id": "16d3c91c",
   "metadata": {},
   "outputs": [],
   "source": [
    "from embedding import Embedding\n"
   ]
  },
  {
   "cell_type": "code",
   "execution_count": null,
   "id": "93d9089f",
   "metadata": {},
   "outputs": [],
   "source": [
    "# NOTE: it is better to convert this into python file if you don't want to have an interactive section\n",
    "# in embedding.py there is a line warnings.filterwarnings(\"ignore\")\n",
    "# which ignore all the warning when running, if you want to turn that off, comment on that line\n",
    "\n",
    "EMBEDDING_INPUT_FILE  = './data/example.fasta' # input fasta file + its directory\n",
    "EMBEDDING_OUTPUT_NAME = 'blind' # output file name\n",
    "EMBEDDING_OUTPUT_DIR = \"data\" # output file directory, remember don't put / at the end\n",
    "Embedder = Embedding(in_file=EMBEDDING_INPUT_FILE,\n",
    "                     out_name = EMBEDDING_OUTPUT_NAME, \n",
    "                     out_dir = EMBEDDING_OUTPUT_DIR,\n",
    "                     level='residue', # change to \"protein\" if want to embed in protein level\n",
    "                     embed='prott5')\n",
    "\n",
    "Embedder.embedding()"
   ]
  },
  {
   "cell_type": "code",
   "execution_count": null,
   "id": "d63e30ad",
   "metadata": {},
   "outputs": [],
   "source": []
  }
 ],
 "metadata": {
  "kernelspec": {
   "display_name": "Python 3 (ipykernel)",
   "language": "python",
   "name": "python3"
  },
  "language_info": {
   "codemirror_mode": {
    "name": "ipython",
    "version": 3
   },
   "file_extension": ".py",
   "mimetype": "text/x-python",
   "name": "python",
   "nbconvert_exporter": "python",
   "pygments_lexer": "ipython3",
   "version": "3.8.6"
  }
 },
 "nbformat": 4,
 "nbformat_minor": 5
}
