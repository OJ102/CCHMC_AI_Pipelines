{
 "cells": [
  {
   "cell_type": "markdown",
   "id": "0596ced0",
   "metadata": {},
   "source": [
    "# Instruction for Prott5 embedding"
   ]
  },
  {
   "cell_type": "code",
   "execution_count": 1,
   "id": "d4d3c3b0",
   "metadata": {},
   "outputs": [
    {
     "name": "stderr",
     "output_type": "stream",
     "text": [
      "2024-04-25 10:42:41.108891: I tensorflow/core/util/util.cc:169] oneDNN custom operations are on. You may see slightly different numerical results due to floating-point round-off errors from different computation orders. To turn them off, set the environment variable `TF_ENABLE_ONEDNN_OPTS=0`.\n"
     ]
    }
   ],
   "source": [
    "from embedding import Embedding\n",
    "from Bio import SeqIO\n",
    "import random\n",
    "import copy\n",
    "import joblib\n",
    "import numpy as np\n",
    "import pandas as pd\n",
    "import pickle"
   ]
  },
  {
   "cell_type": "code",
   "execution_count": 2,
   "id": "9cac7bb8",
   "metadata": {},
   "outputs": [],
   "source": [
    "def start_embedding(inputFile=None, type='protein'):\n",
    "    \"\"\"\n",
    "    Starts the embedding process.\n",
    "\n",
    "    Args:\n",
    "        inputFile (str): Path to the input file. Default is None.\n",
    "        type (str): Type of embedding. Default is 'protein'.\n",
    "\n",
    "    Returns:\n",
    "        None\n",
    "    \"\"\"\n",
    "\n",
    "    EMBEDDING_INPUT_FILE = f'./data/{inputFile}.fasta'\n",
    "    EMBEDDING_OUTPUT_NAME = f'blind_{inputFile}'  # output file name\n",
    "\n",
    "    EMBEDDING_OUTPUT_DIR = \"data\"  # output file directory, remember don't put / at the end\n",
    "    Embedder = Embedding(\n",
    "        in_file=EMBEDDING_INPUT_FILE,\n",
    "        out_name=EMBEDDING_OUTPUT_NAME,\n",
    "        out_dir=EMBEDDING_OUTPUT_DIR,\n",
    "        level=type,  \n",
    "        embed='prott5'\n",
    "    )\n",
    "\n",
    "    Embedder.embedding()"
   ]
  },
  {
   "cell_type": "code",
   "execution_count": 3,
   "id": "d55ef782",
   "metadata": {},
   "outputs": [],
   "source": [
    "def make_preds(inputFile):\n",
    "    \"\"\"\n",
    "    Generate predictions for protein properties using pre-trained models.\n",
    "    Kcat and Sc/o predictions are generated and saved to a CSV file.\n",
    "\n",
    "    Args:\n",
    "        inputFile (str): The name of the input file.\n",
    "\n",
    "    Returns:\n",
    "        None\n",
    "\n",
    "    Raises:\n",
    "        FileNotFoundError: If the input file or pre-trained models are not found.\n",
    "\n",
    "    \"\"\"\n",
    "    df = pd.read_csv(f\"./data/blind_{inputFile}_protein_prott5.csv\")\n",
    "    proteinId = df['ProteinID']\n",
    "    embeddings = df.drop(columns=['ProteinID'])\n",
    "    kcat = joblib.load(r\"./ridgeModels/kcat mean 0.01.pkl\")\n",
    "    sco = joblib.load(r\"./ridgeModels/Sco mean 0.01.pkl\")\n",
    "    kcat_predictions = kcat.predict(embeddings)\n",
    "    sco_predictions = sco.predict(embeddings)\n",
    "\n",
    "    kcat_predictions = pd.DataFrame(kcat_predictions, columns=['Kcat'])\n",
    "    sco_predictions = pd.DataFrame(sco_predictions, columns=['Sc/o'])\n",
    "    new_df = pd.concat([proteinId, kcat_predictions, sco_predictions], axis=1)\n",
    "    new_df.to_csv(f\"./data/{inputFile}-predictions.csv\", index=False)\n",
    "    print(new_df.shape)\n",
    "    print(f\"Output File: ./data/{inputFile}-predictions.csv\")"
   ]
  },
  {
   "cell_type": "code",
   "execution_count": 4,
   "id": "578628c4",
   "metadata": {},
   "outputs": [
    {
     "name": "stdout",
     "output_type": "stream",
     "text": [
      "(15, 3)\n",
      "Output File: ./data/example-predictions.csv\n"
     ]
    }
   ],
   "source": [
    "inputFile = \"example\" #NOTE: Make sure to put the file in the data folder\n",
    "start_embedding(inputFile)\n",
    "make_preds(inputFile)"
   ]
  },
  {
   "cell_type": "code",
   "execution_count": null,
   "id": "70459742",
   "metadata": {},
   "outputs": [],
   "source": []
  }
 ],
 "metadata": {
  "kernelspec": {
   "display_name": "Python 3 (ipykernel)",
   "language": "python",
   "name": "python3"
  },
  "language_info": {
   "codemirror_mode": {
    "name": "ipython",
    "version": 3
   },
   "file_extension": ".py",
   "mimetype": "text/x-python",
   "name": "python",
   "nbconvert_exporter": "python",
   "pygments_lexer": "ipython3",
   "version": "3.8.6"
  }
 },
 "nbformat": 4,
 "nbformat_minor": 5
}
