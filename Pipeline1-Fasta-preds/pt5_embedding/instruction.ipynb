{
 "cells": [
  {
   "cell_type": "markdown",
   "id": "2db906ae",
   "metadata": {},
   "source": [
    "# Instruction for Prott5 embedding"
   ]
  },
  {
   "cell_type": "code",
   "execution_count": 1,
   "id": "16d3c91c",
   "metadata": {},
   "outputs": [
    {
     "name": "stderr",
     "output_type": "stream",
     "text": [
      "2024-03-07 11:20:13.534538: I tensorflow/core/util/util.cc:169] oneDNN custom operations are on. You may see slightly different numerical results due to floating-point round-off errors from different computation orders. To turn them off, set the environment variable `TF_ENABLE_ONEDNN_OPTS=0`.\n"
     ]
    }
   ],
   "source": [
    "from embedding import Embedding\n"
   ]
  },
  {
   "cell_type": "code",
   "execution_count": 3,
   "id": "93d9089f",
   "metadata": {},
   "outputs": [
    {
     "data": {
      "text/plain": [
       "'./data/blind_protein_prott5.csv'"
      ]
     },
     "execution_count": 3,
     "metadata": {},
     "output_type": "execute_result"
    }
   ],
   "source": [
    "# NOTE: it is better to convert this into python file if you don't want to have an interactive section\n",
    "# in embedding.py there is a line warnings.filterwarnings(\"ignore\")\n",
    "# which ignore all the warning when running, if you want to turn that off, comment on that line\n",
    "\n",
    "EMBEDDING_INPUT_FILE  = './data/sequences.fasta' # input fasta file + its directory\n",
    "EMBEDDING_OUTPUT_NAME = 'blind' # output file name\n",
    "EMBEDDING_OUTPUT_DIR = \"data\" # output file directory, remember don't put / at the end\n",
    "Embedder = Embedding(in_file=EMBEDDING_INPUT_FILE,\n",
    "                     out_name = EMBEDDING_OUTPUT_NAME, \n",
    "                     out_dir = EMBEDDING_OUTPUT_DIR,\n",
    "                     level='protein', # change to \"protein\" if want to embed in protein level\n",
    "                     embed='prott5')\n",
    "\n",
    "Embedder.embedding()"
   ]
  },
  {
   "cell_type": "code",
   "execution_count": null,
   "id": "d63e30ad",
   "metadata": {},
   "outputs": [],
   "source": []
  }
 ],
 "metadata": {
  "kernelspec": {
   "display_name": "Python 3 (ipykernel)",
   "language": "python",
   "name": "python3"
  },
  "language_info": {
   "codemirror_mode": {
    "name": "ipython",
    "version": 3
   },
   "file_extension": ".py",
   "mimetype": "text/x-python",
   "name": "python",
   "nbconvert_exporter": "python",
   "pygments_lexer": "ipython3",
   "version": "3.8.6"
  }
 },
 "nbformat": 4,
 "nbformat_minor": 5
}
